{
 "cells": [
  {
   "cell_type": "code",
   "execution_count": 1,
   "metadata": {
    "collapsed": true
   },
   "outputs": [],
   "source": [
    "import numpy as np\n",
    "import pandas\n",
    "import matplotlib.pyplot as plt\n",
    "%matplotlib inline\n",
    "\n",
    "import os\n",
    "import glob\n",
    "import matplotlib as mpl\n",
    "\n",
    "from scipy.optimize import curve_fit\n",
    "from scipy.stats import skewnorm\n",
    "import scipy.integrate as integrate"
   ]
  },
  {
   "cell_type": "code",
   "execution_count": 2,
   "metadata": {
    "collapsed": true
   },
   "outputs": [],
   "source": [
    "Iax_dir = \"/Users/tktakaro/Documents/Type-Iax-HST\" #\"D:/Research/Type-Iax-HST\"\n",
    "mist_dir = Iax_dir + \"/MIST/ACS-WFC\"\n",
    "\n",
    "catalog = np.loadtxt(Iax_dir+\"/new_files/sn2006ov/sn2006ov\")"
   ]
  },
  {
   "cell_type": "code",
   "execution_count": 3,
   "metadata": {
    "collapsed": true
   },
   "outputs": [],
   "source": [
    "pos_predict = np.zeros((catalog.shape[0],2))\n",
    "info_predict = np.zeros(np.shape(catalog))\n",
    "\n",
    "j = 0 # Iteration variable for positions array\n",
    "for i in range(catalog.shape[0]): # Cycles through each object in catalog\n",
    "    # Checks to make sure point is \"good\"\n",
    "    # Good defined by: 1. S/N > 3     2. Sharpness < .3    3. Roundness < 1     4. Crowding < .1 \n",
    "    if ((catalog[i][5] >= 3.5)&(abs(catalog[i][6]) < .3)&(abs(catalog[i][7]) < 1)\n",
    "        &(catalog[i][9] < .1)):\n",
    "        pos_predict[j][0] = catalog[i][2] # Assigns X position\n",
    "        pos_predict[j][1] = catalog[i][3] # Assigns Y position\n",
    "        info_predict[j] = catalog[i]\n",
    "        j = j + 1\n",
    "                \n",
    "# Trims all zeros from end of positions array, left from \"bad\" objects\n",
    "pos_predict = pos_predict[~np.all(pos_predict == 0, axis=1)]\n",
    "info_predict = info_predict[~np.all(info_predict == 0, axis=1)]\n",
    "\n",
    "# Saves high S/N object X,Y positions\n",
    "np.savetxt(\"Region_files/sn2006ov_Prediction.reg\", pos_predict, '%5.2f')"
   ]
  },
  {
   "cell_type": "code",
   "execution_count": 4,
   "metadata": {
    "collapsed": true
   },
   "outputs": [],
   "source": [
    "asci = open(Iax_dir + \"/jupyter_notebooks/Region_files/sn2006ov_200pc.reg\", \"r+\")\n",
    "\n",
    "def mysplit(s, delim=None):\n",
    "    return [x for x in s.split(delim) if x]\n",
    "\n",
    "text = asci.readlines()\n",
    "region = np.zeros([6,2])\n",
    "for i in range(6):\n",
    "    region[i][0] = mysplit(text[i], ' ')[0]\n",
    "    region[i][1] = mysplit(text[i], ' ')[1]\n",
    "region = region[~np.all(region == 0, axis=1)]\n",
    "\n",
    "# Info for each star chosen as real \n",
    "info = np.zeros([region.shape[0],info_predict.shape[1]])\n",
    "\n",
    "j = 0 # Iteration variable for region array\n",
    "for i in range(info_predict.shape[0]): # Cycles through each star predicted above\n",
    "    if (region[j][0] == pos_predict[i][0])&(region[j][1] == pos_predict[i][1]):\n",
    "        info[j] = info_predict[i]\n",
    "        j = j + 1\n",
    "        if j == region.shape[0]: break\n",
    "info = info[~np.all(info == 0, axis=1)]"
   ]
  },
  {
   "cell_type": "code",
   "execution_count": 7,
   "metadata": {
    "collapsed": false
   },
   "outputs": [],
   "source": [
    "# Using IRAF to compute actual concentration index, i.e. photometry at .5 pixels to photometry at 3 pixels\n",
    "ascii_1 = open(\"/Users/tktakaro/Documents/Type-Iax-HST/new_files/sn2006ov/final_ACS_f435w_crc.fits1.mag.1\")\n",
    "ascii_2 = open(\"/Users/tktakaro/Documents/Type-Iax-HST/new_files/sn2006ov/final_ACS_f435w_crc.fits1.mag.2\")\n",
    "text_1 = ascii_1.readlines()\n",
    "text_2 = ascii_2.readlines()\n",
    "\n",
    "concentration = np.zeros(6)\n",
    "for i in range(6):\n",
    "    if mysplit(text_1[5*i + 79])[4] == 'INDEF': # Removes objects with no defined magnitude at .5 pixels\n",
    "        concentration[i] = 99\n",
    "    elif mysplit(text_2[5*i + 79])[4] == 'INDEF': # Removes objects with no defined magnitude at 3 pixels\n",
    "        concentration[i] = -99\n",
    "    else: concentration[i] = float(mysplit(text_1[5*i + 79])[4]) - float(mysplit(text_2[5*i + 79])[4])\n",
    "ascii_1.close()\n",
    "ascii_2.close()"
   ]
  },
  {
   "cell_type": "code",
   "execution_count": 8,
   "metadata": {
    "collapsed": true
   },
   "outputs": [],
   "source": [
    "# Cut out clusters (identified as objects with concentration parameter < 2.3, from Chandar et. al. 2010)\n",
    "new_info = np.zeros(info.shape)\n",
    "for i in range(6):\n",
    "    if (concentration[i] < 2.3): # & (concentration[i] >= 0):\n",
    "        new_info[i] = info[i]\n",
    "new_info = new_info[~np.all(new_info == 0, axis=1)]\n",
    "\n",
    "np.savetxt(\"Region_files/sn2006ov_NoClustersROI.reg\", new_info[:,2:4], '%5.2f')"
   ]
  },
  {
   "cell_type": "code",
   "execution_count": 11,
   "metadata": {
    "collapsed": true
   },
   "outputs": [],
   "source": [
    "info_new = info[:,:]\n",
    "info = new_info[:,:]"
   ]
  },
  {
   "cell_type": "code",
   "execution_count": 12,
   "metadata": {
    "collapsed": true
   },
   "outputs": [],
   "source": [
    "kwargs = {\"names\": [\"EEP\", \"log10_isochrone_age_yr\", \"initial_mass\", \"star_mass\", \"log_Teff\", \"log_g\",\n",
    "                    \"log_L\", \"[Fe/H]_init\", \"[Fe/H]\", \"ACS_WFC_F435W\", \"ACS_WFC_F475W\", \"ACS_WFC_F502N\",\n",
    "                    \"ACS_WFC_F550M\", \"ACS_WFC_F555W\", \"ACS_WFC_F606W\", \"ACS_WFC_F625W\", \"ACS_WFC_F658N\",\n",
    "                    \"ACS_WFC_F660N\", \"ACS_WFC_F775W\", \"ACS_WFC_F814W\", \"ACS_WFC_F850LP\", \"ACS_WFC_F892N\", \"phase\"],\n",
    "         \"delim_whitespace\": True, \"comment\": \"#\"}\n",
    "isochrones = {}\n",
    "for filename in glob.glob(mist_dir + \"/*.iso.cmd\"):\n",
    "    filename = filename.replace(\"\\\\\", \"/\")\n",
    "    feh_string = filename.split(\"/\")[-1].split(\"=\")[1].split(\".iso\")[0] # Pulls metalicity information\n",
    "    feh = float(feh_string) # feh is [Fe/H]\n",
    "    df = pandas.read_csv(filename, **kwargs)\n",
    "    df['ages'] = 10 ** df.log10_isochrone_age_yr / 1e9\n",
    "    isochrones[feh] = df # Creates dictionary accessible by entering a particular metalicity"
   ]
  },
  {
   "cell_type": "code",
   "execution_count": 13,
   "metadata": {
    "collapsed": true
   },
   "outputs": [],
   "source": [
    "# Reddening, metallicity, and distance errors\n",
    "dist_lower = 31.43 - .07 # Actually distance modulus\n",
    "dist_upper = 31.43 + .07 # Acutally distance modulus"
   ]
  },
  {
   "cell_type": "code",
   "execution_count": null,
   "metadata": {
    "collapsed": true
   },
   "outputs": [],
   "source": []
  }
 ],
 "metadata": {
  "kernelspec": {
   "display_name": "Python [Root]",
   "language": "python",
   "name": "Python [Root]"
  },
  "language_info": {
   "codemirror_mode": {
    "name": "ipython",
    "version": 3
   },
   "file_extension": ".py",
   "mimetype": "text/x-python",
   "name": "python",
   "nbconvert_exporter": "python",
   "pygments_lexer": "ipython3",
   "version": "3.5.2"
  }
 },
 "nbformat": 4,
 "nbformat_minor": 2
}
